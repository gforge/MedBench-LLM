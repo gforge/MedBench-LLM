{
 "cells": [
  {
   "cell_type": "markdown",
   "metadata": {
    "id": "DQBomu0-6mGq"
   },
   "source": [
    "# Building LLM-based applications for writting discharge summary\n",
    "\n",
    "In this notebook, we will build an application to writting discharge summary.\n",
    "\n",
    "For required packages, please run:\n",
    "\n",
    "```bash\n",
    "poetry install\n",
    "```\n",
    "\n",
    "There are a few methods explored in this notebook:\n",
    "1. Stuff with human and system prompt\n",
    "2. Stuff with human prompt\n",
    "3. Decompose method\n",
    "4. MapReduce method\n",
    "5. Refine method"
   ]
  },
  {
   "cell_type": "code",
   "execution_count": null,
   "metadata": {},
   "outputs": [],
   "source": [
    "import os\n",
    "from typing import Literal\n",
    "import sys\n",
    "from pathlib import Path\n",
    "from dataclasses import dataclass\n",
    "\n",
    "import nest_asyncio\n",
    "from dotenv import load_dotenv\n",
    "from IPython.display import Markdown\n",
    "from langchain_openai import AzureChatOpenAI\n",
    "import tiktoken\n",
    "\n",
    "nest_asyncio.apply()\n",
    "\n",
    "load_dotenv()\n",
    "\n",
    "@dataclass\n",
    "class ModelDefinition:\n",
    "    deployment: str\n",
    "    name: str\n",
    "    version: str\n",
    "\n",
    "\n",
    "AvailableModels = Literal['gpt-35', 'gpt-4o-mini', 'gpt-4-turbo']\n",
    "\n",
    "available_models: dict[AvailableModels, ModelDefinition] = {\n",
    "    \"gpt-35\":\n",
    "    ModelDefinition(\n",
    "        deployment=\"gpt_35_16k\",\n",
    "        name=\"gpt-35-turbo-16k\",\n",
    "        version=\"0613\",\n",
    "    ),\n",
    "    \"gpt-4o-mini\":\n",
    "    ModelDefinition(\n",
    "        deployment=\"gpt-4o-mini\",\n",
    "        name=\"gpt-4o-mini\",\n",
    "        version=\"2024-07-18\",\n",
    "    ),\n",
    "    \"gpt-4-turbo\":\n",
    "    ModelDefinition(\n",
    "        deployment=\"gpt-4-turbo\",\n",
    "        name=\"gpt-4\",\n",
    "        version=\"turbo-2024-04-09\",\n",
    "    ),\n",
    "}\n",
    "\n",
    "def init_model(model_name: AvailableModels, temperature: float):\n",
    "    model = available_models.get(model_name)\n",
    "    if not model:\n",
    "        raise ValueError(f\"Model {model_name} not found\")\n",
    "    return AzureChatOpenAI(\n",
    "        deployment_name=model.deployment,\n",
    "        model_name=model.name,\n",
    "        temperature=temperature,\n",
    "    )\n",
    "\n",
    "def count_tokens(text: str, model_name: AvailableModels) -> int:\n",
    "    \"\"\"Count the number of tokens in the text for a specific model.\"\"\"\n",
    "\n",
    "    # Map models to known tokenizer encodings\n",
    "    model_to_encoding = {\n",
    "        \"gpt-35-turbo-16k\": \"cl100k_base\",\n",
    "        \"gpt-4o-mini\": \"o200k_base\",\n",
    "        \"gpt-4\": \"cl100k_base\"\n",
    "    }\n",
    "    encoding_name = model_to_encoding.get(model_name)\n",
    "    if not encoding_name:\n",
    "        raise ValueError(f\"Encoding not found for model {model_name}\")\n",
    "    encoding = tiktoken.get_encoding(encoding_name)\n",
    "\n",
    "    tokens = encoding.encode(text)\n",
    "    return len(tokens)"
   ]
  },
  {
   "cell_type": "code",
   "execution_count": null,
   "metadata": {},
   "outputs": [],
   "source": [
    "llm = init_model(\"gpt-35\", temperature=0.0)\n",
    "\n",
    "# Add notebooks parent directory to path\n",
    "project_folder = Path(os.getcwd()).parent\n",
    "sys.path.append(str(project_folder))\n",
    "output_folder = project_folder / \"data\" / \"output\"\n",
    "case_dir = project_folder / \"data\" / 'processed'\n",
    "if not case_dir.exists():\n",
    "    raise FileNotFoundError(f\"Cases directory not found at {case_dir}\")\n",
    "if not output_folder.exists():\n",
    "    output_folder.mkdir(parents=True)"
   ]
  },
  {
   "cell_type": "code",
   "execution_count": null,
   "metadata": {},
   "outputs": [],
   "source": [
    "# Local files\n",
    "from helpers import read_json_file, read_markdown_file"
   ]
  },
  {
   "cell_type": "markdown",
   "metadata": {},
   "source": [
    "# Read cases"
   ]
  },
  {
   "cell_type": "code",
   "execution_count": null,
   "metadata": {},
   "outputs": [],
   "source": [
    "# Filter those that are _original.md - ignore other languages for now\n",
    "file_list = [\n",
    "    f for f in (case_dir / 'merged').glob('*.md')\n",
    "    if f.stem.endswith('_original') and f.stem.find('Orthopaedic') != -1\n",
    "]\n",
    "work_with_file = file_list[0]\n",
    "\n",
    "case = read_markdown_file(path=work_with_file)\n",
    "\n",
    "json_file_list = [f for f in (case_dir / 'markdown').glob('*.json')\n",
    "                  if f.stem.endswith('_original') and\n",
    "                     f.stem.find('Orthopaedic') != -1]\n",
    "\n",
    "# Read and parse the json file as a dictionary\n",
    "json_file = json_file_list[0]\n",
    "\n",
    "case_object = read_json_file(json_file)"
   ]
  },
  {
   "cell_type": "code",
   "execution_count": null,
   "metadata": {},
   "outputs": [],
   "source": [
    "count_tokens(case, model_name=llm.model_name)"
   ]
  },
  {
   "cell_type": "markdown",
   "metadata": {},
   "source": [
    "# Basic method (Naive)"
   ]
  },
  {
   "cell_type": "code",
   "execution_count": null,
   "metadata": {},
   "outputs": [],
   "source": [
    "from basic.basic import basic_chain\n",
    "\n",
    "out = basic_chain(llm=llm).dual.invoke({\"notes\": case})\n",
    "Markdown(out)"
   ]
  },
  {
   "cell_type": "markdown",
   "metadata": {},
   "source": [
    "# Decompose Technique"
   ]
  },
  {
   "cell_type": "code",
   "execution_count": null,
   "metadata": {},
   "outputs": [],
   "source": [
    "from decompose import single_decompose\n",
    "\n",
    "out = single_decompose(case=case_object, llm=llm)\n",
    "Markdown(out)"
   ]
  },
  {
   "cell_type": "markdown",
   "metadata": {},
   "source": [
    "# Map Reduce Prompt Techniques"
   ]
  },
  {
   "cell_type": "code",
   "execution_count": null,
   "metadata": {},
   "outputs": [],
   "source": [
    "from map_reduce import create_mapreduce_df\n",
    "\n",
    "mapreduce_sum = create_mapreduce_df(case=case_object, llm=llm, n=2)\n",
    "mapreduce_sum.to_csv(output_folder / \"mapreduce_final.csv\")"
   ]
  },
  {
   "cell_type": "markdown",
   "metadata": {},
   "source": [
    "# Refine Prompt Techniques"
   ]
  },
  {
   "cell_type": "code",
   "execution_count": null,
   "metadata": {},
   "outputs": [],
   "source": [
    "from refine import create_refine_df\n",
    "\n",
    "refine_sum = create_refine_df(case=case_object, llm=llm, n=2)\n",
    "refine_sum.to_csv(output_folder / \"refine_final.csv\")"
   ]
  }
 ],
 "metadata": {
  "colab": {
   "provenance": []
  },
  "kernelspec": {
   "display_name": "Python 3 (ipykernel)",
   "language": "python",
   "name": "python3"
  },
  "language_info": {
   "codemirror_mode": {
    "name": "ipython",
    "version": 3
   },
   "file_extension": ".py",
   "mimetype": "text/x-python",
   "name": "python",
   "nbconvert_exporter": "python",
   "pygments_lexer": "ipython3",
   "version": "3.12.2"
  }
 },
 "nbformat": 4,
 "nbformat_minor": 1
}
