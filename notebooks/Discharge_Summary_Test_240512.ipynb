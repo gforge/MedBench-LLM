{
 "cells": [
  {
   "cell_type": "markdown",
   "metadata": {
    "id": "DQBomu0-6mGq"
   },
   "source": [
    "# Building LLM-based applications for writting discharge summary\n",
    "\n",
    "In this notebook, we will build an application to writting discharge summary.\n",
    "\n",
    "For required packages, please run:\n",
    "\n",
    "```bash\n",
    "poetry install\n",
    "```\n",
    "\n",
    "There are a few methods explored in this notebook:\n",
    "1. Stuff with human and system prompt\n",
    "2. Stuff with human prompt\n",
    "3. Decompose method\n",
    "4. MapReduce method\n",
    "5. Refine method"
   ]
  },
  {
   "cell_type": "code",
   "execution_count": 1,
   "metadata": {},
   "outputs": [],
   "source": [
    "import os\n",
    "import sys\n",
    "from pathlib import Path\n",
    "\n",
    "import nest_asyncio\n",
    "from dotenv import load_dotenv\n",
    "from IPython.display import Markdown\n",
    "from langchain_openai import AzureChatOpenAI\n",
    "\n",
    "nest_asyncio.apply()\n",
    "\n",
    "load_dotenv()\n",
    "llm = AzureChatOpenAI(\n",
    "    deployment_name=\"gpt_35_16k\",\n",
    "    model_name=\"gpt-35-turbo-16k\"\n",
    ")\n",
    "\n",
    "# Add notebooks parent directory to path\n",
    "project_folder = Path(os.getcwd()).parent\n",
    "sys.path.append(str(project_folder))\n",
    "output_folder = project_folder / \"data\" / \"output\"\n",
    "case_dir = project_folder / \"data\" / 'processed'\n",
    "if not case_dir.exists():\n",
    "    raise FileNotFoundError(f\"Cases directory not found at {case_dir}\")\n",
    "if not output_folder.exists():\n",
    "    output_folder.mkdir(parents=True)"
   ]
  },
  {
   "cell_type": "code",
   "execution_count": 2,
   "metadata": {},
   "outputs": [],
   "source": [
    "# Local files\n",
    "from helpers.read_data import read_json_file, read_markdown_file"
   ]
  },
  {
   "cell_type": "markdown",
   "metadata": {},
   "source": [
    "# Read cases"
   ]
  },
  {
   "cell_type": "code",
   "execution_count": 3,
   "metadata": {},
   "outputs": [
    {
     "data": {
      "text/markdown": [
       "# Medications, 2024-01-08\n",
       " * Norvasc (Amlodipine), PO, 5 Mg 1+0+0 times per day\n",
       " * Cozaar (Losartan), PO, 50 Mg 1+0+0 times per day\n",
       " * Fortamet (Metformin), PO, 500 Mg 2+0+2 times per day\n",
       " * Pfizerpen (Benzylpenicillin), IV, 1 G 0+0+1 times per day\n",
       " * Roxicodone (Oxicodone), PO, 5 Mg 0+0+1 times per day\n",
       " * Veetids (Phenoxymethylpenicillin), PO, 1 G 0+0+0 times per day\n",
       "\n",
       "# Lab values, 2024-01-08, 18:26\n",
       " * B-Leukocytes 16.2 x10^9/L (3.5-8.8)\n",
       " * B-Erytrocytes 7.7 x10^12/L (3.9-5.2)\n",
       " * B-Hemoglobin 120 g/L (117-153)\n",
       " * B-EVF 0.45 U (0.35-0.46)\n",
       " * ERC(B)-MCV 92 fL (82-98)\n",
       " * ERC(B)-MCH 30 x10^9/L (27-33)\n",
       " * B-Trombocytes 178 x10^9/L (165-387)\n",
       " * P-Glucose 7.2 mmol/L (4.2-6.0)\n",
       " * P-Sodium 140 mmol/L (137-145)\n",
       " * P-Potassium 4.5 mmol/L (3.5-4.6)\n",
       " * P-CRP 279 mg/L (<3)\n",
       " * P-Creatinine 137 μmol/L (<90)\n",
       "\n",
       "# ED admission note, 2024-01-08, 19:43, Dr A \n",
       "\n",
       "## Social security number\n",
       "19550101–1111\n",
       "\n",
       "## Reason for admittance\n",
       "Swollen leg.\n",
       "\n",
       "## Earlier/current diseases\n",
       "Hypertension, diabetes mellitus type 2, ..."
      ],
      "text/plain": [
       "<IPython.core.display.Markdown object>"
      ]
     },
     "execution_count": 3,
     "metadata": {},
     "output_type": "execute_result"
    }
   ],
   "source": [
    "# Filter those that are _original.md - ignore other languages for now\n",
    "file_list = [\n",
    "    f for f in (case_dir / 'merged').glob('*.md')\n",
    "    if f.stem.endswith('_original')\n",
    "]\n",
    "work_with_file = file_list[0]\n",
    "\n",
    "case = read_markdown_file(path=work_with_file)\n",
    "\n",
    "# Print first 1000 characters of the case\n",
    "Markdown(case[:1000] + '...')"
   ]
  },
  {
   "cell_type": "code",
   "execution_count": 4,
   "metadata": {},
   "outputs": [
    {
     "data": {
      "text/plain": [
       "Case(id='Surgery_Case 1', language='original', lab='|labTest      |referenceInterval |unit   | value|date       |time  |\\n|:------------|:-----------------|:------|-----:|:----------|:-----|\\n|B-Hemoglobin |117-153           |g/L    |  96.0|2024-02-01 |10:57 |\\n|B-Hemoglobin |117-153           |g/L    |  83.0|2024-02-01 |14:33 |\\n|B-Hemoglobin |117-153           |g/L    | 102.0|2024-02-02 |06:37 |\\n|B-Hemoglobin |117-153           |g/L    |  93.0|2024-02-03 |06:47 |\\n|B-Hemoglobin |117-153           |g/L    |  91.0|2024-02-04 |06:27 |\\n|B-Hemoglobin |117-153           |g/L    |  93.0|2024-02-04 |06:55 |\\n|P-Glucose    |4.2-6.0           |mmol/L |   7.1|2024-02-01 |10:57 |\\n|P-Glucose    |4.2-6.0           |mmol/L |   7.1|2024-02-02 |06:37 |\\n|P-CRP        |<3                |mg/L   |  10.0|2024-02-02 |06:37 |', singleLab=[LabTest(lab_test='B-Hemoglobin', reference_interval='117-153', unit='g/L', value=96, date=datetime.date(2024, 2, 1), time='10:57'), LabTest(lab_test='B-Hemoglobin', reference_interval='117-153', unit='g/L', value=83, date=datetime.date(2024, 2, 1), time='14:33'), LabTest(lab_test='B-Hemoglobin', reference_interval='117-153', unit='g/L', value=102, date=datetime.date(2024, 2, 2), time='06:37'), LabTest(lab_test='B-Hemoglobin', reference_interval='117-153', unit='g/L', value=93, date=datetime.date(2024, 2, 3), time='06:47'), LabTest(lab_test='B-Hemoglobin', reference_interval='117-153', unit='g/L', value=91, date=datetime.date(2024, 2, 4), time='06:27'), LabTest(lab_test='B-Hemoglobin', reference_interval='117-153', unit='g/L', value=93, date=datetime.date(2024, 2, 4), time='06:55'), LabTest(lab_test='P-Glucose', reference_interval='4.2-6.0', unit='mmol/L', value=7.1, date=datetime.date(2024, 2, 1), time='10:57'), LabTest(lab_test='P-Glucose', reference_interval='4.2-6.0', unit='mmol/L', value=7.1, date=datetime.date(2024, 2, 2), time='06:37'), LabTest(lab_test='P-CRP', reference_interval='<3', unit='mg/L', value=10, date=datetime.date(2024, 2, 2), time='06:37')], medications='|medication    |wayOfAdministration | strength|unit |atcCode |2024-02-01 |2024-02-02 |2024-02-03 |2024-02-04 |2024-02-05 |\\n|:-------------|:-------------------|--------:|:----|:-------|:----------|:----------|:----------|:----------|:----------|\\n|Brilique      |PO                  |       90|mg   |-       |1+0+1      |1+0+1      |1+0+1      |1+0+1      |1+0+1      |\\n|Esomeprazol   |PO                  |       40|mg   |-       |NA         |NA         |NA         |1+0+0      |1+0+0      |\\n|Ringer-Acetat |IV                  |        1|ml   |-       |1000+0+0   |1000+0+0   |1000+0+0   |NA         |NA         |', singleMedication=[Medication(medication='Esomeprazol', way_of_administration='PO', strength=40, unit='mg', times_per_day='1+0+0', date=datetime.date(2024, 2, 4)), Medication(medication='Esomeprazol', way_of_administration='PO', strength=40, unit='mg', times_per_day='1+0+0', date=datetime.date(2024, 2, 5)), Medication(medication='Brilique', way_of_administration='PO', strength=90, unit='mg', times_per_day='1+0+1', date=datetime.date(2024, 2, 1)), Medication(medication='Brilique', way_of_administration='PO', strength=90, unit='mg', times_per_day='1+0+1', date=datetime.date(2024, 2, 2)), Medication(medication='Brilique', way_of_administration='PO', strength=90, unit='mg', times_per_day='1+0+1', date=datetime.date(2024, 2, 3)), Medication(medication='Brilique', way_of_administration='PO', strength=90, unit='mg', times_per_day='1+0+1', date=datetime.date(2024, 2, 4)), Medication(medication='Brilique', way_of_administration='PO', strength=90, unit='mg', times_per_day='1+0+1', date=datetime.date(2024, 2, 5)), Medication(medication='Ringer-Acetat', way_of_administration='IV', strength=1, unit='ml', times_per_day='1000+0+0', date=datetime.date(2024, 2, 1)), Medication(medication='Ringer-Acetat', way_of_administration='IV', strength=1, unit='ml', times_per_day='1000+0+0', date=datetime.date(2024, 2, 2)), Medication(medication='Ringer-Acetat', way_of_administration='IV', strength=1, unit='ml', times_per_day='1000+0+0', date=datetime.date(2024, 2, 3))], chart='# ED admission note, 2024-02-01, 10:00, Dr Margaret\\n## Social security number\\n19540201-xxxx\\n## Reason for admittance\\nBleeding from rectum.\\n## Tobacco\\nOne pack a day for 55 years.\\n## Alcohol\\n3-4 beers a week, a small glass whisky on Fridays.\\n## Earlier/current diseases\\nHigh blood pressure. STEMI last month, started with Aspirin and NOAK after that. \\n## Social background\\nRetired. Used to be a librarian. Lives in small house on the countryside with his wife and dog. No help needed with ADL.\\n## Current event\\nAfter the patient started on Aspirin and NOAK a month ago there has been intermittent bleeding from rectum. This morning, when the patient was doing his morning stool, there was a lot of blood in the toilet and the patient was close to fainting. He was very weak and pale. The patient denies any pain in abdomen or chest. No change in stool habits or consistency. \\n## Status\\n### General condition\\nWell and unimpaired. Saturation 99%. RF 16. BPM 70. BP 165/105. Temp 36.7 C.\\n### Heart\\nRegular rhythm. No murmur.\\n### Lungs\\nNormal breathing sounds bilaterally. \\n### Abdominal examination\\nAdipose configuration of the abdomen. No operation scars. Clear and frequent bowel sounds. Belly palpates soft and with no pain, no resistances, no defense. Liver and spleen cannot be palpated. No pain over kidneys.\\n### Rectal examination\\nLimited with feces in ampulla. Feces mixed with dark blood.\\n## Findings\\n### Electrocardiogram\\nSinus rhythm with normal frequency. Signs of previous ischemia. ECG basically unchanged from last ECG two weeks ago.\\n### Radiology\\nNone at ED.\\n### Laboratory\\nHb 96 g/l which is lower than previously measured for this patient.\\n## Plan\\n70-year-old man with high blood pressure, recent STEMI, and recently started with Aspirin and NOAK. Intermittent bleeding from rectum for a few weeks, today increased bleeding. Low Hb. Call with cardiologist to discuss NOAK and Aspirin. Suspected gastrointestinal bleeding. Patient is set on fasting with IV of liquids. Planning for gastroscopy.\\n## Diagnosis\\nK922 Gastrointestinal bleeding\\n\\n# Progress note, 2024-02-01, 15:03, Dr Alice\\nPatient with gastrointestinal bleeding that began after initiation of dual antiplatelet therapy following myocardial infarction a month ago. Planned for blood transfusion, proton pump inhibitor (PPI) therapy, and esophagogastroduodenoscopy (OGD). If bleeding persists, further discussion with cardiology regarding discontinuation of Brilique.\\n\\n# Progress note, 2024-02-02, 11:03, Dr Frans\\nS: Lower GI bleeding B: Hypertension. ST-elevation myocardial infarction (STEMI) a month ago, PCI. Started on Aspirin and Brilique. A: Bloody stools since initiation of Aspirin and Brilique. Getting worse and worse. Syncopal episode at home after bowel movement. No abdominal or chest pain. Since arrival at the ward, no bowel movements, no blood. Hemoglobin (Hb) 102, C-reactive protein (CRP) 10. R: Upper gastrointestinal endoscopy (gastroscopy), planned tomorrow. Also planned for colonoscopy.\\n\\n# Gastroscopy, 2024-02-03, 08:34, Dr Zoe\\n## Indication\\nBleeding source?\\n## Gastroscopy report\\nInspection from the pars descendens duodeni showed no abnormalities, as well as the bulb. The pylorus appears normal and regular. The antral mucosa, including the angular fold inspected in retroflexion, appears normal. The mucosa of the gastric corpus appears normal, although several polyps are observed. The Z-line is slightly disrupted, and there is a small inflammatory polyp. The esophageal mucosa appears normal. During today\\'s gastroscopy, no signs of bleeding source were identified.\\n\\n# Progress note, 2024-02-03, 14:57, Dr Frans\\nGastroscopy reveals multiple polyps in the stomach, but no signs of bleeding source were identified. Colonoscopy is planned. \\n\\n# Colonoscopy, 2024-02-04, 08:34, Dr Smith\\n## Examination results\\nSeveral polyps in the ascending colon accessible for endoscopic resection and a suspicious cancerous change located in the sigmoid colon. Specimens sent to pathology.\\n\\n# Computed Tomography, 2024-02-05, 08:34, Dr Zeb\\n## Examination results\\nNo metastasis-suspected changes in the thorax or abdomen. Tumor-suspected change in sigmoid colon. No definite soft tissue enlargement is seen in other tumor locations described in the referral.\\n\\n# Progress note, 2024-02-05, 11:33, Dr Frans\\nMelena and hematochezia are assessed to be due to a newly discovered tumor in the colon.\" No signs of metastasis in the thorax or abdomen. Further follow-up at home. ')"
      ]
     },
     "execution_count": 4,
     "metadata": {},
     "output_type": "execute_result"
    }
   ],
   "source": [
    "json_file_list = [f for f in (case_dir / 'markdown').glob('*.json') if f.stem.endswith('_original')]\n",
    "\n",
    "# Read and parse the json file as a dictionary\n",
    "json_file = json_file_list[0]\n",
    "\n",
    "case_object = read_json_file(json_file)\n",
    "case_object"
   ]
  },
  {
   "cell_type": "markdown",
   "metadata": {},
   "source": [
    "# Basic method (Naive)"
   ]
  },
  {
   "cell_type": "code",
   "execution_count": null,
   "metadata": {},
   "outputs": [],
   "source": [
    "from basic.basic import basic_chain\n",
    "\n",
    "out = basic_chain(llm=llm).single.invoke({\"notes\": case})\n",
    "Markdown(out)"
   ]
  },
  {
   "cell_type": "code",
   "execution_count": null,
   "metadata": {},
   "outputs": [],
   "source": [
    "from basic.basic import create_multiple_basic_prompts\n",
    "\n",
    "stuff_df = create_multiple_basic_prompts(case=case, n=2, llm=llm)\n",
    "stuff_df"
   ]
  },
  {
   "cell_type": "code",
   "execution_count": null,
   "metadata": {},
   "outputs": [],
   "source": [
    "stuff_df.to_csv(output_folder / \"stuff_df_final.csv\")"
   ]
  },
  {
   "cell_type": "markdown",
   "metadata": {},
   "source": [
    "# Decompose Technique"
   ]
  },
  {
   "cell_type": "code",
   "execution_count": 5,
   "metadata": {},
   "outputs": [],
   "source": [
    "from decompose import combine_all_sections\n",
    "\n",
    "decompose_df = combine_all_sections(case=case_object, llm=llm, n = 2)"
   ]
  },
  {
   "cell_type": "code",
   "execution_count": null,
   "metadata": {},
   "outputs": [],
   "source": [
    "decompose_df.to_csv(output_folder / \"decompose_df_final.csv\")"
   ]
  },
  {
   "cell_type": "markdown",
   "metadata": {},
   "source": [
    "# Map Reduce Prompt Techniques"
   ]
  },
  {
   "cell_type": "code",
   "execution_count": 7,
   "metadata": {},
   "outputs": [],
   "source": [
    "from map_reduce import create_mapreduce_df\n",
    "\n",
    "mapreduce_sum = create_mapreduce_df(case=case_object, llm=llm, n=2)"
   ]
  },
  {
   "cell_type": "code",
   "execution_count": 8,
   "metadata": {},
   "outputs": [],
   "source": [
    "mapreduce_sum.to_csv(output_folder / \"mapreduce_final.csv\")"
   ]
  },
  {
   "cell_type": "markdown",
   "metadata": {},
   "source": [
    "# Refine Prompt Techniques"
   ]
  },
  {
   "cell_type": "code",
   "execution_count": 11,
   "metadata": {},
   "outputs": [],
   "source": [
    "from refine import create_refine_df\n",
    "\n",
    "refine_sum = create_refine_df(case=case_object, n=2, llm=llm)\n",
    "refine_sum.to_csv(output_folder / \"refine_final.csv\")"
   ]
  },
  {
   "cell_type": "code",
   "execution_count": null,
   "metadata": {},
   "outputs": [],
   "source": []
  }
 ],
 "metadata": {
  "colab": {
   "provenance": []
  },
  "kernelspec": {
   "display_name": "Python 3 (ipykernel)",
   "language": "python",
   "name": "python3"
  },
  "language_info": {
   "codemirror_mode": {
    "name": "ipython",
    "version": 3
   },
   "file_extension": ".py",
   "mimetype": "text/x-python",
   "name": "python",
   "nbconvert_exporter": "python",
   "pygments_lexer": "ipython3",
   "version": "3.12.2"
  }
 },
 "nbformat": 4,
 "nbformat_minor": 1
}
