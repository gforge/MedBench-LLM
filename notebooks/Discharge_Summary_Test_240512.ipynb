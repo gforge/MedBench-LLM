{
 "cells": [
  {
   "cell_type": "markdown",
   "metadata": {
    "id": "DQBomu0-6mGq"
   },
   "source": [
    "# Building LLM-based applications for writting discharge summary\n",
    "\n",
    "In this notebook, we will build an application to writting discharge summary.\n",
    "\n",
    "For required packages, please run:\n",
    "\n",
    "```bash\n",
    "poetry install\n",
    "```\n",
    "\n",
    "There are a few methods explored in this notebook:\n",
    "1. Stuff with human and system prompt\n",
    "2. Stuff with human prompt\n",
    "3. Decompose method\n",
    "4. MapReduce method\n",
    "5. Refine method"
   ]
  },
  {
   "cell_type": "code",
   "execution_count": null,
   "metadata": {},
   "outputs": [],
   "source": [
    "import os\n",
    "import sys\n",
    "from pathlib import Path\n",
    "\n",
    "import nest_asyncio\n",
    "from dotenv import load_dotenv\n",
    "from IPython.display import Markdown\n",
    "\n",
    "nest_asyncio.apply()\n",
    "\n",
    "load_dotenv()\n",
    "\n",
    "# Setup import paths\n",
    "project_folder = Path(os.getcwd()).parent\n",
    "sys.path.append(str(project_folder))\n",
    "\n",
    "# Import local modules\n",
    "from helpers import count_tokens, init_model"
   ]
  },
  {
   "cell_type": "markdown",
   "metadata": {},
   "source": [
    "# Setup"
   ]
  },
  {
   "cell_type": "code",
   "execution_count": null,
   "metadata": {},
   "outputs": [],
   "source": [
    "# Set up the GPT model\n",
    "llm, _ = init_model(\"gpt-35\", temperature=0.0)\n",
    "\n",
    "# Set the data paths\n",
    "output_folder = project_folder / \"data\" / \"output\"\n",
    "case_dir = project_folder / \"data\" / 'processed'\n",
    "if not case_dir.exists():\n",
    "    raise FileNotFoundError(f\"Cases directory not found at {case_dir}\")\n",
    "if not output_folder.exists():\n",
    "    output_folder.mkdir(parents=True)"
   ]
  },
  {
   "cell_type": "markdown",
   "metadata": {},
   "source": [
    "# Read cases"
   ]
  },
  {
   "cell_type": "code",
   "execution_count": null,
   "metadata": {},
   "outputs": [],
   "source": [
    "from helpers import read_all_cases\n",
    "\n",
    "case_dict = read_all_cases(base_dir=case_dir,\n",
    "                           filter_specialty='Orthopaedics',\n",
    "                           filter_language='original')\n",
    "# Pick first case from the case_dict\n",
    "explore_case = list(case_dict.values())[0]"
   ]
  },
  {
   "cell_type": "code",
   "execution_count": null,
   "metadata": {},
   "outputs": [],
   "source": [
    "# Check the case text and tokens, note that some models have limits on the number of tokens per minute\n",
    "count_tokens(explore_case.text, model_name=llm.model_name)"
   ]
  },
  {
   "cell_type": "markdown",
   "metadata": {},
   "source": [
    "# Basic method (Naive)"
   ]
  },
  {
   "cell_type": "code",
   "execution_count": null,
   "metadata": {},
   "outputs": [],
   "source": [
    "from basic.basic import basic_chain\n",
    "\n",
    "out = basic_chain(llm=llm).dual.invoke({\"notes\": explore_case.text})\n",
    "Markdown(out)"
   ]
  },
  {
   "cell_type": "markdown",
   "metadata": {},
   "source": [
    "# Decompose Technique"
   ]
  },
  {
   "cell_type": "code",
   "execution_count": null,
   "metadata": {},
   "outputs": [],
   "source": [
    "from decompose import single_decompose\n",
    "\n",
    "out = single_decompose(case=explore_case.object, llm=llm)\n",
    "Markdown(out)"
   ]
  },
  {
   "cell_type": "markdown",
   "metadata": {},
   "source": [
    "# Map Reduce Prompt Techniques"
   ]
  },
  {
   "cell_type": "code",
   "execution_count": null,
   "metadata": {},
   "outputs": [],
   "source": [
    "from map_reduce import create_mapreduce_df\n",
    "\n",
    "mapreduce_sum = create_mapreduce_df(case=explore_case.object, llm=llm, n=2)\n",
    "mapreduce_sum.to_csv(output_folder / \"mapreduce_final.csv\")"
   ]
  },
  {
   "cell_type": "markdown",
   "metadata": {},
   "source": [
    "# Refine Prompt Techniques"
   ]
  },
  {
   "cell_type": "code",
   "execution_count": null,
   "metadata": {},
   "outputs": [],
   "source": [
    "from refine import create_refine_df\n",
    "\n",
    "refine_sum = create_refine_df(case=explore_case.object, llm=llm, n=2)\n",
    "refine_sum.to_csv(output_folder / \"refine_final.csv\")"
   ]
  }
 ],
 "metadata": {
  "colab": {
   "provenance": []
  },
  "kernelspec": {
   "display_name": "Python 3 (ipykernel)",
   "language": "python",
   "name": "python3"
  },
  "language_info": {
   "codemirror_mode": {
    "name": "ipython",
    "version": 3
   },
   "file_extension": ".py",
   "mimetype": "text/x-python",
   "name": "python",
   "nbconvert_exporter": "python",
   "pygments_lexer": "ipython3",
   "version": "3.12.2"
  }
 },
 "nbformat": 4,
 "nbformat_minor": 1
}
