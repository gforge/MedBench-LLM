{
 "cells": [
  {
   "cell_type": "markdown",
   "metadata": {
    "id": "DQBomu0-6mGq"
   },
   "source": [
    "# Building LLM-based applications for writting discharge summary\n",
    "\n",
    "In this notebook, we will build an application to writting discharge summary.\n",
    "\n",
    "For required packages, please run:\n",
    "\n",
    "```bash\n",
    "poetry install\n",
    "```\n",
    "\n",
    "There are a few methods explored in this notebook:\n",
    "1. Stuff with human and system prompt\n",
    "2. Stuff with human prompt\n",
    "3. Decompose method\n",
    "4. MapReduce method\n",
    "5. Refine method"
   ]
  },
  {
   "cell_type": "code",
   "execution_count": null,
   "metadata": {},
   "outputs": [],
   "source": [
    "import os\n",
    "import sys\n",
    "from pathlib import Path\n",
    "\n",
    "import nest_asyncio\n",
    "from dotenv import load_dotenv\n",
    "from IPython.display import Markdown\n",
    "from langchain_openai import AzureChatOpenAI\n",
    "\n",
    "nest_asyncio.apply()\n",
    "\n",
    "load_dotenv()\n",
    "llm = AzureChatOpenAI(\n",
    "    deployment_name=\"gpt_35_16k\",\n",
    "    model_name=\"gpt-35-turbo-16k\",\n",
    "    temperature=0,\n",
    ")\n",
    "\n",
    "# Add notebooks parent directory to path\n",
    "project_folder = Path(os.getcwd()).parent\n",
    "sys.path.append(str(project_folder))\n",
    "output_folder = project_folder / \"data\" / \"output\"\n",
    "case_dir = project_folder / \"data\" / 'processed'\n",
    "if not case_dir.exists():\n",
    "    raise FileNotFoundError(f\"Cases directory not found at {case_dir}\")\n",
    "if not output_folder.exists():\n",
    "    output_folder.mkdir(parents=True)"
   ]
  },
  {
   "cell_type": "code",
   "execution_count": null,
   "metadata": {},
   "outputs": [],
   "source": [
    "# Local files\n",
    "from helpers import read_json_file, read_markdown_file"
   ]
  },
  {
   "cell_type": "markdown",
   "metadata": {},
   "source": [
    "# Read cases"
   ]
  },
  {
   "cell_type": "code",
   "execution_count": null,
   "metadata": {},
   "outputs": [],
   "source": [
    "# Filter those that are _original.md - ignore other languages for now\n",
    "file_list = [\n",
    "    f for f in (case_dir / 'merged').glob('*.md')\n",
    "    if f.stem.endswith('_original') and f.stem.find('Orthopaedic') != -1\n",
    "]\n",
    "work_with_file = file_list[0]\n",
    "\n",
    "case = read_markdown_file(path=work_with_file)\n",
    "\n",
    "# Print first 1000 characters of the case\n",
    "Markdown(case[:1000] + '...')"
   ]
  },
  {
   "cell_type": "code",
   "execution_count": null,
   "metadata": {},
   "outputs": [],
   "source": [
    "json_file_list = [f for f in (case_dir / 'markdown').glob('*.json')\n",
    "                  if f.stem.endswith('_original') and\n",
    "                     f.stem.find('Orthopaedic') != -1]\n",
    "\n",
    "# Read and parse the json file as a dictionary\n",
    "json_file = json_file_list[0]\n",
    "\n",
    "case_object = read_json_file(json_file)\n",
    "str(case_object)"
   ]
  },
  {
   "cell_type": "markdown",
   "metadata": {},
   "source": [
    "# Basic method (Naive)"
   ]
  },
  {
   "cell_type": "code",
   "execution_count": null,
   "metadata": {},
   "outputs": [],
   "source": [
    "from basic.basic import basic_chain\n",
    "\n",
    "out = basic_chain(llm=llm).single.invoke({\"notes\": case})\n",
    "Markdown(out)"
   ]
  },
  {
   "cell_type": "code",
   "execution_count": null,
   "metadata": {},
   "outputs": [],
   "source": [
    "from basic.basic import create_multiple_basic_prompts\n",
    "\n",
    "stuff_df = create_multiple_basic_prompts(case=case, n=2, llm=llm)\n",
    "stuff_df.to_csv(output_folder / \"stuff_df_final.csv\")"
   ]
  },
  {
   "cell_type": "markdown",
   "metadata": {},
   "source": [
    "# Decompose Technique"
   ]
  },
  {
   "cell_type": "code",
   "execution_count": null,
   "metadata": {},
   "outputs": [],
   "source": [
    "from decompose import combine_all_sections\n",
    "\n",
    "decompose_df = combine_all_sections(case=case_object, llm=llm, n = 1)\n",
    "decompose_df.to_csv(output_folder / \"decompose_df_final.csv\")"
   ]
  },
  {
   "cell_type": "markdown",
   "metadata": {},
   "source": [
    "# Map Reduce Prompt Techniques"
   ]
  },
  {
   "cell_type": "code",
   "execution_count": null,
   "metadata": {},
   "outputs": [],
   "source": [
    "from map_reduce import create_mapreduce_df\n",
    "\n",
    "mapreduce_sum = create_mapreduce_df(case=case_object, llm=llm, n=2)\n",
    "mapreduce_sum.to_csv(output_folder / \"mapreduce_final.csv\")"
   ]
  },
  {
   "cell_type": "markdown",
   "metadata": {},
   "source": [
    "# Refine Prompt Techniques"
   ]
  },
  {
   "cell_type": "code",
   "execution_count": null,
   "metadata": {},
   "outputs": [],
   "source": [
    "from refine import create_refine_df\n",
    "\n",
    "refine_sum = create_refine_df(case=case_object, llm=llm, n=2)\n",
    "refine_sum.to_csv(output_folder / \"refine_final.csv\")"
   ]
  }
 ],
 "metadata": {
  "colab": {
   "provenance": []
  },
  "kernelspec": {
   "display_name": "Python 3 (ipykernel)",
   "language": "python",
   "name": "python3"
  },
  "language_info": {
   "codemirror_mode": {
    "name": "ipython",
    "version": 3
   },
   "file_extension": ".py",
   "mimetype": "text/x-python",
   "name": "python",
   "nbconvert_exporter": "python",
   "pygments_lexer": "ipython3",
   "version": "3.12.4"
  }
 },
 "nbformat": 4,
 "nbformat_minor": 1
}
