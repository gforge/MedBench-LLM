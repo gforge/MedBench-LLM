{
 "cells": [
  {
   "cell_type": "markdown",
   "metadata": {
    "id": "DQBomu0-6mGq"
   },
   "source": [
    "# Building LLM-based applications for writting discharge summary\n",
    "\n",
    "In this notebook, we will build an application to writting discharge summary.\n",
    "\n",
    "For required packages, please run:\n",
    "\n",
    "```bash\n",
    "pip install -r requirements.txt\n",
    "```\n",
    "\n",
    "or\n",
    "\n",
    "```bash\n",
    "conda install --file requirements.txt\n",
    "```\n",
    "\n",
    "There are a few methods explored in this notebook:\n",
    "1. Stuff with human and system prompt\n",
    "2. Stuff with human prompt\n",
    "3. Decompose method\n",
    "4. MapReduce method\n",
    "5. Refine method"
   ]
  },
  {
   "cell_type": "code",
   "execution_count": 1,
   "metadata": {},
   "outputs": [],
   "source": [
    "from dotenv import load_dotenv\n",
    "from langchain_openai import AzureChatOpenAI\n",
    "\n",
    "load_dotenv()\n",
    "llm = AzureChatOpenAI(\n",
    "    deployment_name=\"gpt_35_16k\",\n",
    "    model_name=\"gpt-35-turbo-16k\"\n",
    ")"
   ]
  },
  {
   "cell_type": "code",
   "execution_count": 2,
   "metadata": {},
   "outputs": [],
   "source": [
    "#!pip install nest-asyncio\n",
    "import nest_asyncio\n",
    "nest_asyncio.apply()"
   ]
  },
  {
   "cell_type": "code",
   "execution_count": 3,
   "metadata": {},
   "outputs": [],
   "source": [
    "from IPython.display import Markdown"
   ]
  },
  {
   "cell_type": "markdown",
   "metadata": {},
   "source": [
    "# Read cases"
   ]
  },
  {
   "cell_type": "code",
   "execution_count": 4,
   "metadata": {},
   "outputs": [
    {
     "ename": "IndexError",
     "evalue": "list index out of range",
     "output_type": "error",
     "traceback": [
      "\u001b[0;31m---------------------------------------------------------------------------\u001b[0m",
      "\u001b[0;31mIndexError\u001b[0m                                Traceback (most recent call last)",
      "Cell \u001b[0;32mIn[4], line 7\u001b[0m\n\u001b[1;32m      5\u001b[0m \u001b[38;5;66;03m# Filter those that are _original.md - ignore other languages for now\u001b[39;00m\n\u001b[1;32m      6\u001b[0m file_list \u001b[38;5;241m=\u001b[39m [f \u001b[38;5;28;01mfor\u001b[39;00m f \u001b[38;5;129;01min\u001b[39;00m file_list \u001b[38;5;28;01mif\u001b[39;00m \u001b[38;5;124m'\u001b[39m\u001b[38;5;124m_original.md\u001b[39m\u001b[38;5;124m'\u001b[39m \u001b[38;5;129;01min\u001b[39;00m f]\n\u001b[0;32m----> 7\u001b[0m work_with_file \u001b[38;5;241m=\u001b[39m \u001b[43mfile_list\u001b[49m\u001b[43m[\u001b[49m\u001b[38;5;241;43m0\u001b[39;49m\u001b[43m]\u001b[49m\n\u001b[1;32m      9\u001b[0m case \u001b[38;5;241m=\u001b[39m read_markdown_file(path\u001b[38;5;241m=\u001b[39mwork_with_file)\n\u001b[1;32m     11\u001b[0m \u001b[38;5;66;03m# Print first 1000 characters of the case\u001b[39;00m\n",
      "\u001b[0;31mIndexError\u001b[0m: list index out of range"
     ]
    }
   ],
   "source": [
    "import glob\n",
    "from prompting.read_data import read_markdown_file, read_json_file\n",
    "\n",
    "file_list = glob.glob('./data/processed/merged/merged*.md')\n",
    "# Filter those that are _original.md - ignore other languages for now\n",
    "file_list = [f for f in file_list if '_original.md' in f]\n",
    "work_with_file = file_list[0]\n",
    "\n",
    "case = read_markdown_file(path=work_with_file)\n",
    "\n",
    "# Print first 1000 characters of the case\n",
    "Markdown(case[:1000] + '...')"
   ]
  },
  {
   "cell_type": "code",
   "execution_count": null,
   "metadata": {},
   "outputs": [],
   "source": [
    "from prompting.read_data import read_json_file\n",
    "\n",
    "json_file_list = glob.glob('./data/processed/markdown*.json')\n",
    "# Filter those that are _original.md - ignore other languages for now\n",
    "json_file_list = [f for f in json_file_list if '_original.json' in f]\n",
    "\n",
    "# Read and parse the json file as a dictionary\n",
    "json_file = json_file_list[0]\n",
    "\n",
    "case_object = read_json_file(json_file)\n",
    "case_object"
   ]
  },
  {
   "cell_type": "markdown",
   "metadata": {},
   "source": [
    "# Basic method (Naive)"
   ]
  },
  {
   "cell_type": "code",
   "execution_count": null,
   "metadata": {},
   "outputs": [],
   "source": [
    "from prompting.basic import basic_chain\n",
    "\n",
    "out = basic_chain(llm=llm).single.invoke({\"notes\": case})\n",
    "Markdown(out)"
   ]
  },
  {
   "cell_type": "code",
   "execution_count": null,
   "metadata": {},
   "outputs": [],
   "source": [
    "from prompting.basic import create_multiple_basic_prompts\n",
    "\n",
    "stuff_df = create_multiple_basic_prompts(case=case, n=2, llm=llm)\n",
    "stuff_df"
   ]
  },
  {
   "cell_type": "code",
   "execution_count": null,
   "metadata": {},
   "outputs": [],
   "source": [
    "stuff_df.to_csv(\"data/output/stuff_df_final.csv\")"
   ]
  },
  {
   "cell_type": "markdown",
   "metadata": {},
   "source": [
    "# Decompose Technique"
   ]
  },
  {
   "cell_type": "code",
   "execution_count": null,
   "metadata": {},
   "outputs": [],
   "source": [
    "from prompting.decompose import combine_all_sections\n",
    "\n",
    "decompose_df = combine_all_sections(case=case_object, llm=llm, n = 2)"
   ]
  },
  {
   "cell_type": "code",
   "execution_count": null,
   "metadata": {},
   "outputs": [],
   "source": [
    "decompose_df.to_csv(\"data/output/decompose_df_final.csv\")"
   ]
  },
  {
   "cell_type": "markdown",
   "metadata": {},
   "source": [
    "# Map Reduce Prompt Techniques"
   ]
  },
  {
   "cell_type": "code",
   "execution_count": null,
   "metadata": {},
   "outputs": [],
   "source": [
    "from prompting.map_reduce import create_mapreduce_df\n",
    "\n",
    "mapreduce_sum = create_mapreduce_df(case=case_object, n = 2)"
   ]
  },
  {
   "cell_type": "code",
   "execution_count": null,
   "metadata": {},
   "outputs": [],
   "source": [
    "mapreduce_sum.to_csv(\"data/output/mapreduce_final.csv\")"
   ]
  },
  {
   "cell_type": "markdown",
   "metadata": {},
   "source": [
    "# Refine Prompt Techniques"
   ]
  },
  {
   "cell_type": "code",
   "execution_count": null,
   "metadata": {},
   "outputs": [],
   "source": [
    "from prompting.refine import create_refine_df\n",
    "\n",
    "refine_sum = create_refine_df(case=case_object, n=5, llm=llm)\n",
    "refine_sum.to_csv(\"data/outputrefine_final.csv\")"
   ]
  }
 ],
 "metadata": {
  "colab": {
   "provenance": []
  },
  "kernelspec": {
   "display_name": "Python 3 (ipykernel)",
   "language": "python",
   "name": "python3"
  },
  "language_info": {
   "codemirror_mode": {
    "name": "ipython",
    "version": 3
   },
   "file_extension": ".py",
   "mimetype": "text/x-python",
   "name": "python",
   "nbconvert_exporter": "python",
   "pygments_lexer": "ipython3",
   "version": "3.12.4"
  }
 },
 "nbformat": 4,
 "nbformat_minor": 1
}
